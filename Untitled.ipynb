{
 "cells": [
  {
   "cell_type": "code",
   "execution_count": 3,
   "id": "3a59c4c6-09ec-4db5-9825-ad76957dd515",
   "metadata": {},
   "outputs": [],
   "source": [
    "import numpy as np"
   ]
  },
  {
   "cell_type": "code",
   "execution_count": 4,
   "id": "387c93e0-3f68-4c5a-8b7c-bcb3178d118e",
   "metadata": {},
   "outputs": [
    {
     "name": "stdout",
     "output_type": "stream",
     "text": [
      "A distância coberta é: 16.666666666666664\n"
     ]
    }
   ],
   "source": [
    "# Questão 1:\n",
    "\n",
    "def simpson_composta(v, t):\n",
    "    n = len(t) - 1\n",
    "    h = (t[-1] - t[0]) / n\n",
    "    soma = v[0] + v[-1]\n",
    "    for i in range(1, n, 2):\n",
    "        soma += 4 * v[i]\n",
    "    for i in range(2, n-1, 2):\n",
    "        soma += 2 * v[i]\n",
    "    return (h / 3) * soma\n",
    "\n",
    "# Exemplo de aplicação:\n",
    "velocidades = [0, 2, 4, 6, 8, 10]  # Exemplo de velocidades\n",
    "tempos = [0, 1, 2, 3, 4, 5]        # Tempos correspondentes\n",
    "distancia = simpson_composta(velocidades, tempos)\n",
    "print(f\"A distância coberta é: {distancia}\")\n"
   ]
  },
  {
   "cell_type": "code",
   "execution_count": 5,
   "id": "7e630638-a798-433f-ae0f-0842da2b86f7",
   "metadata": {},
   "outputs": [
    {
     "name": "stdout",
     "output_type": "stream",
     "text": [
      "A área sob a curva da pressão é: 1870.0\n"
     ]
    }
   ],
   "source": [
    "#Questão 2\n",
    "\n",
    "def funcao_pressao(h):\n",
    "    return 5 * h**2 + 3 * h + 2\n",
    "\n",
    "def regra_trapezios(a, b, n):\n",
    "    h = (b - a) / n\n",
    "    soma = funcao_pressao(a) + funcao_pressao(b)\n",
    "    for i in range(1, n):\n",
    "        soma += 2 * funcao_pressao(a + i * h)\n",
    "    return (h / 2) * soma\n",
    "\n",
    "# Aplicação para a pressão\n",
    "a = 0\n",
    "b = 10\n",
    "n = 5\n",
    "area = regra_trapezios(a, b, n)\n",
    "print(f\"A área sob a curva da pressão é: {area}\")\n"
   ]
  },
  {
   "cell_type": "code",
   "execution_count": 7,
   "id": "307d416f-513c-420e-93c5-c06372672615",
   "metadata": {},
   "outputs": [
    {
     "name": "stdout",
     "output_type": "stream",
     "text": [
      "Solução obtida: [-0.5294591   1.2354156   1.35287597]\n"
     ]
    }
   ],
   "source": [
    "#Questão 3 , letra B\n",
    "\n",
    "def gauss_seidel(A, b, eps=1e-3, max_iter=100):\n",
    "    n = len(b)\n",
    "    x = np.zeros(n)\n",
    "    for _ in range(max_iter):\n",
    "        x_new = np.copy(x)\n",
    "        for i in range(n):\n",
    "            sum1 = sum(A[i][j] * x_new[j] for j in range(i))\n",
    "            sum2 = sum(A[i][j] * x[j] for j in range(i + 1, n))\n",
    "            x_new[i] = (b[i] - sum1 - sum2) / A[i][i]\n",
    "        if np.linalg.norm(x_new - x) < eps:\n",
    "            return x_new\n",
    "        x = x_new\n",
    "    return x\n",
    "\n",
    "# Sistema de equações\n",
    "A = np.array([[3, 1, 1], [2, 3, 1], [1, 2, 3]])\n",
    "b = np.array([1, 4, 6])\n",
    "solucao = gauss_seidel(A, b)\n",
    "print(f\"Solução obtida: {solucao}\")\n"
   ]
  }
 ],
 "metadata": {
  "kernelspec": {
   "display_name": "Python 3 (ipykernel)",
   "language": "python",
   "name": "python3"
  },
  "language_info": {
   "codemirror_mode": {
    "name": "ipython",
    "version": 3
   },
   "file_extension": ".py",
   "mimetype": "text/x-python",
   "name": "python",
   "nbconvert_exporter": "python",
   "pygments_lexer": "ipython3",
   "version": "3.12.0"
  }
 },
 "nbformat": 4,
 "nbformat_minor": 5
}
