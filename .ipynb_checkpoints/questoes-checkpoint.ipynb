{
 "cells": [
  {
   "cell_type": "code",
   "execution_count": 3,
   "id": "3a59c4c6-09ec-4db5-9825-ad76957dd515",
   "metadata": {},
   "outputs": [],
   "source": [
    "import numpy as np"
   ]
  },
  {
   "cell_type": "code",
   "execution_count": 67,
   "id": "387c93e0-3f68-4c5a-8b7c-bcb3178d118e",
   "metadata": {},
   "outputs": [
    {
     "name": "stdout",
     "output_type": "stream",
     "text": [
      "A distância coberta é: 44.735\n"
     ]
    }
   ],
   "source": [
    "# Questão 1:\n",
    "\n",
    "def simpson_composta(v, t):\n",
    "    n = len(t) - 1\n",
    "    h = (t[-1] - t[0]) / n\n",
    "    soma = v[0] + v[-1]\n",
    "    for i in range(1, n, 2):\n",
    "        soma += 4 * v[i]\n",
    "    for i in range(2, n-1, 2):\n",
    "        soma += 2 * v[i]\n",
    "    return (h / 3) * soma\n",
    "\n",
    "\n",
    "velocidades = [0, 4.67, 7.34, 8.86, 9.73, 10.22, 10.51, 10.67, 10.76, 10.81, 10.81]  # Velocidades\n",
    "tempos = [0, 0.5, 1, 1.5, 2, 2.5, 3, 3.5,4,4.5,5]        # Tempos\n",
    "distancia = simpson_composta(velocidades, tempos)\n",
    "print(f\"A distância coberta é: {distancia}\")\n"
   ]
  },
  {
   "cell_type": "code",
   "execution_count": 68,
   "id": "7e630638-a798-433f-ae0f-0842da2b86f7",
   "metadata": {},
   "outputs": [
    {
     "name": "stdout",
     "output_type": "stream",
     "text": [
      "A área sob a curva da pressão é: 1870.0\n"
     ]
    }
   ],
   "source": [
    "#Questão 2\n",
    "\n",
    "def funcao_pressao(h):\n",
    "    return 5 * h**2 + 3 * h + 2\n",
    "\n",
    "def regra_trapezios(a, b, n):\n",
    "    h = (b - a) / n\n",
    "    soma = funcao_pressao(a) + funcao_pressao(b)\n",
    "    for i in range(1, n):\n",
    "        soma += 2 * funcao_pressao(a + i * h)\n",
    "    return (h / 2) * soma\n",
    "\n",
    "# Aplicação para a pressão\n",
    "a = 0\n",
    "b = 10\n",
    "n = 5\n",
    "area = regra_trapezios(a, b, n)\n",
    "print(f\"A área sob a curva da pressão é: {area}\")\n"
   ]
  },
  {
   "cell_type": "code",
   "execution_count": 69,
   "id": "307d416f-513c-420e-93c5-c06372672615",
   "metadata": {},
   "outputs": [
    {
     "name": "stdout",
     "output_type": "stream",
     "text": [
      "Interações: 383 iterações.\n",
      "Solução obtida: [ 1.32512869e+306  5.81438240e+306 -1.94308402e+307]\n"
     ]
    }
   ],
   "source": [
    "# Questão 3\n",
    "\n",
    "def gauss_seidel(A, b, eps=1e-3, max_iter=383): #fui testando até chegar esse valor de 383, caso passe\n",
    "    n = len(b)                                  #disso o programa fica dando valores inf ou nan nan nan.\n",
    "    x = np.zeros(n)\n",
    "    iter_count = 0  \n",
    "\n",
    "    for _ in range(max_iter):\n",
    "        x_new = np.copy(x)\n",
    "        for i in range(n):\n",
    "            sum1 = sum(A[i][j] * x_new[j] for j in range(i))\n",
    "            sum2 = sum(A[i][j] * x[j] for j in range(i + 1, n))\n",
    "            x_new[i] = (b[i] - sum1 - sum2) / A[i][i]\n",
    "        \n",
    "        iter_count += 1  \n",
    "\n",
    "        \n",
    "        if np.linalg.norm(x_new - x) < eps:\n",
    "            print(f\"Solução obtida após {iter_count} iterações.\")\n",
    "            return x_new\n",
    "        x = x_new\n",
    "\n",
    "    print(f\"Interações: {max_iter} iterações.\")\n",
    "    return x\n",
    "\n",
    "\n",
    "A = np.array([[3, -1, 1], [3, 3, 7], [3, 6, 2]])\n",
    "b = np.array([1, 4, 0])\n",
    "solucao = gauss_seidel(A, b)\n",
    "print(f\"Solução obtida: {solucao}\")\n",
    "\n"
   ]
  },
  {
   "cell_type": "code",
   "execution_count": 74,
   "id": "ced48159-1f7b-43ff-93cd-21f6177e42d6",
   "metadata": {},
   "outputs": [
    {
     "name": "stdout",
     "output_type": "stream",
     "text": [
      "Número de computadores de cada tipo:\n",
      "Tipo 1: 10.0\n",
      "Tipo 2: 12.0\n",
      "Tipo 3: 18.0\n",
      "Tipo 4: 15.0\n"
     ]
    }
   ],
   "source": [
    "# Questão 4\n",
    "\n",
    "A = np.array([[3, 4, 7, 20],\n",
    "              [20, 25, 40, 50],\n",
    "              [10, 15, 20, 22],\n",
    "              [10, 8, 10, 15]])\n",
    "\n",
    "b = np.array([504, 1970, 970, 601])\n",
    "\n",
    "x = np.linalg.solve(A, b)\n",
    "\n",
    "x_rounded = np.round(x) # Eu arredondei para o inteiro mais proximo\n",
    "\n",
    "print(\"Número de computadores de cada tipo:\")\n",
    "print(\"Tipo 1:\", x_rounded[0])\n",
    "print(\"Tipo 2:\", x_rounded[1])\n",
    "print(\"Tipo 3:\", x_rounded[2])\n",
    "print(\"Tipo 4:\", x_rounded[3])"
   ]
  },
  {
   "cell_type": "code",
   "execution_count": null,
   "id": "b9b6c708-d3d4-40a0-a643-1c618d942a71",
   "metadata": {},
   "outputs": [],
   "source": []
  }
 ],
 "metadata": {
  "kernelspec": {
   "display_name": "Python 3 (ipykernel)",
   "language": "python",
   "name": "python3"
  },
  "language_info": {
   "codemirror_mode": {
    "name": "ipython",
    "version": 3
   },
   "file_extension": ".py",
   "mimetype": "text/x-python",
   "name": "python",
   "nbconvert_exporter": "python",
   "pygments_lexer": "ipython3",
   "version": "3.12.0"
  }
 },
 "nbformat": 4,
 "nbformat_minor": 5
}
